{
 "metadata": {
  "language_info": {
   "codemirror_mode": {
    "name": "ipython",
    "version": 3
   },
   "file_extension": ".py",
   "mimetype": "text/x-python",
   "name": "python",
   "nbconvert_exporter": "python",
   "pygments_lexer": "ipython3",
   "version": 3
  },
  "orig_nbformat": 2
 },
 "nbformat": 4,
 "nbformat_minor": 2,
 "cells": [
  {
   "cell_type": "markdown",
   "metadata": {},
   "source": [
    "# 第四周作业 #\n",
    "\n",
    "## 作业背景 #\n",
    "\n",
    "在数据处理的步骤中，可以使用 SQL 语句或者 pandas 加 Python 库、函数等方式进行数据的清洗和处理工作。  \n",
    "因此需要你能够掌握基本的 SQL 语句和 pandas 等价的语句，利用 Python 的函数高效地做聚合等操作。\n",
    "\n",
    "作业要求：请将以下的 SQL 语句翻译成 pandas 语句：\n"
   ]
  },
  {
   "cell_type": "markdown",
   "metadata": {},
   "source": [
    "1. `SELECT * FROM data;` \n",
    "\n",
    "    参考: <https://pandas.pydata.org/pandas-docs/stable/reference/api/pandas.read_sql_table.html#pandas-read-sql-table>  \n",
    "    可以使用pandas的read_sql_table()这个API接口直接读取全表。  \n",
    "    但是由于read_sql_table()需要依赖到`SQLAlchemy`，所以先在Linux系统中安装:  \n",
    "    `pip install -i  https://mirrors.aliyun.com/pypi/simple/ sqlalchemy`\n"
   ]
  },
  {
   "cell_type": "code",
   "execution_count": null,
   "metadata": {},
   "outputs": [],
   "source": [
    "# example 1\n",
    "import pandas as pd\n",
    "\n",
    "df = pd.read_sql_table('data', 'mysql+pymysql://<DB_USER>:<DB_USER_PASSWORD>@<DB_IP>/<DB_NAME>')\n"
   ]
  },
  {
   "cell_type": "code",
   "execution_count": null,
   "metadata": {},
   "outputs": [],
   "source": [
    "# example 2\n",
    "import pandas as pd\n",
    "from sqlalchemy import Column, String, create_engine\n",
    "engine = create_engine('mysql+pymysql://<DB_USER>:<DB_USER_PASSWORD>@<DB_IP>/<DB_NAME>')\n",
    "df = pd.read_sql_table('maoyan_movie', engine)"
   ]
  },
  {
   "cell_type": "markdown",
   "metadata": {},
   "source": [
    "2. `SELECT * FROM data LIMIT 10;`\n"
   ]
  },
  {
   "cell_type": "code",
   "execution_count": null,
   "metadata": {},
   "outputs": [],
   "source": [
    "df = pd.read_sql_table('data', 'mysql+pymysql://<DB_USER>:<DB_USER_PASSWORD>@<DB_IP>/<DB_NAME>')"
   ]
  },
  {
   "cell_type": "code",
   "execution_count": null,
   "metadata": {},
   "outputs": [],
   "source": [
    "# example 1\n",
    "df.head(10)"
   ]
  },
  {
   "cell_type": "code",
   "execution_count": null,
   "metadata": {},
   "outputs": [],
   "source": [
    "# example 2\n",
    "df.iloc[:10]"
   ]
  },
  {
   "cell_type": "markdown",
   "metadata": {},
   "source": [
    "3. `SELECT id FROM data;  //id 是 data 表的特定一列`\n",
    "\n"
   ]
  },
  {
   "cell_type": "code",
   "execution_count": null,
   "metadata": {},
   "outputs": [],
   "source": [
    "# example 1\n",
    "# This is a Series\n",
    "df['id']"
   ]
  },
  {
   "cell_type": "code",
   "execution_count": null,
   "metadata": {},
   "outputs": [],
   "source": [
    "# example 2\n",
    "# This is a DataFrame\n",
    "df.loc[:, ['title']]"
   ]
  },
  {
   "cell_type": "markdown",
   "metadata": {},
   "source": [
    "4. `SELECT COUNT(id) FROM data;`\n",
    "\n"
   ]
  },
  {
   "cell_type": "code",
   "execution_count": null,
   "metadata": {},
   "outputs": [],
   "source": [
    "df['id'].count()"
   ]
  },
  {
   "cell_type": "markdown",
   "metadata": {},
   "source": [
    "5. `SELECT * FROM data WHERE id<1000 AND age>30;`\n",
    "\n"
   ]
  },
  {
   "cell_type": "code",
   "execution_count": null,
   "metadata": {},
   "outputs": [],
   "source": [
    "df[(df.id < 1000) & (df.age > 30)]"
   ]
  },
  {
   "cell_type": "markdown",
   "metadata": {},
   "source": [
    "6. `SELECT id,COUNT(DISTINCT order_id) FROM table1 GROUP BY id;`\n",
    "\n"
   ]
  },
  {
   "cell_type": "code",
   "execution_count": null,
   "metadata": {},
   "outputs": [],
   "source": [
    "df = pd.read_sql_table('table1', 'mysql+pymysql://<DB_USER>:<DB_USER_PASSWORD>@<DB_IP>/<DB_NAME>')\n",
    "\n",
    "df['count_distinct_order_id'] = df.groupby(['id'])['order_id'].transform('nunique')\n",
    "df[ ['id', 'count_distinct_order_id'] ]"
   ]
  },
  {
   "cell_type": "markdown",
   "metadata": {},
   "source": [
    "7. `SELECT * FROM table1 t1 INNER JOIN table2 t2 ON t1.id = t2.id;`\n",
    "\n"
   ]
  },
  {
   "cell_type": "code",
   "execution_count": null,
   "metadata": {},
   "outputs": [],
   "source": [
    "df_t1 = pd.read_sql_table('table1', 'mysql+pymysql://<DB_USER>:<DB_USER_PASSWORD>@<DB_IP>/<DB_NAME>')\n",
    "df_t2 = pd.read_sql_table('table2', 'mysql+pymysql://<DB_USER>:<DB_USER_PASSWORD>@<DB_IP>/<DB_NAME>')\n",
    "\n",
    "# By default, the merge method performs an inner join.\n",
    "pd.merge(df_t1, df_t2, on='id')"
   ]
  },
  {
   "cell_type": "markdown",
   "metadata": {},
   "source": [
    "8. `SELECT * FROM table1 UNION SELECT * FROM table2;`\n",
    "\n"
   ]
  },
  {
   "cell_type": "code",
   "execution_count": null,
   "metadata": {},
   "outputs": [],
   "source": [
    "pd.concat([\n",
    "    df_t1, df_t2\n",
    "    ], ignore_index=True).drop_duplicates().reset_index(drop=True)"
   ]
  },
  {
   "cell_type": "markdown",
   "metadata": {},
   "source": [
    "9. `DELETE FROM table1 WHERE id=10;`\n",
    "\n"
   ]
  },
  {
   "cell_type": "code",
   "execution_count": null,
   "metadata": {},
   "outputs": [],
   "source": [
    "df_t1 = df_t1[df_t1.id != 10]"
   ]
  },
  {
   "cell_type": "markdown",
   "metadata": {},
   "source": [
    "10. `ALTER TABLE table1 DROP COLUMN column_name;`"
   ]
  },
  {
   "cell_type": "code",
   "execution_count": null,
   "metadata": {},
   "outputs": [],
   "source": [
    "df_t1.drop(['column_name'], axis=1)"
   ]
  }
 ]
}